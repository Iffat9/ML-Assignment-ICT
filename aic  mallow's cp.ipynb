{
 "cells": [
  {
   "cell_type": "markdown",
   "metadata": {},
   "source": [
    "### Assume a linear regression model with normal errors. Take sigma to be known. Show that the model with the highest AIC is the model with the lowest Mallow's Cp statistic.\n"
   ]
  },
  {
   "cell_type": "code",
   "execution_count": 1,
   "metadata": {},
   "outputs": [
    {
     "name": "stderr",
     "output_type": "stream",
     "text": [
      "C:\\Users\\khann\\Anaconda3\\lib\\site-packages\\statsmodels\\compat\\pandas.py:56: FutureWarning: The pandas.core.datetools module is deprecated and will be removed in a future version. Please use the pandas.tseries module instead.\n",
      "  from pandas.core import datetools\n"
     ]
    }
   ],
   "source": [
    "%matplotlib inline\n",
    "import numpy as np\n",
    "import math\n",
    "from scipy import stats\n",
    "import pandas as pd\n",
    "import statsmodels.api as sm\n",
    "import matplotlib.pyplot as plt\n",
    "import numpy.polynomial.polynomial as poly\n",
    "from sklearn.metrics import mean_squared_error\n",
    "from sklearn.linear_model import LinearRegression \n",
    "from sklearn.model_selection import train_test_split, cross_val_score "
   ]
  },
  {
   "cell_type": "code",
   "execution_count": 2,
   "metadata": {},
   "outputs": [
    {
     "name": "stdout",
     "output_type": "stream",
     "text": [
      "[ 3.  4.  5.  6.  7.  8.  9. 10. 11. 12.]\n",
      "[0. 0. 0. 0. 0. 0. 0. 0. 0. 0.]\n",
      "[-87.64243576 -88.31035187 -89.28735993 -90.28716205 -90.55378738\n",
      " -89.97657142 -88.8239806  -87.66976131 -88.62016958 -89.25828508]\n",
      "0\n"
     ]
    },
    {
     "data": {
      "text/plain": [
       "[<matplotlib.lines.Line2D at 0x19336b148d0>]"
      ]
     },
     "execution_count": 2,
     "metadata": {},
     "output_type": "execute_result"
    },
    {
     "data": {
      "image/png": "[encoded data removed]",
      "text/plain": [
       "<matplotlib.figure.Figure at 0x19336b146a0>"
      ]
     },
     "metadata": {},
     "output_type": "display_data"
    }
   ],
   "source": [
    "b0=1\n",
    "b1=0.3\n",
    "sigma=0.5\n",
    "np.random.seed(123)\n",
    "x=np.array(np.linspace(1,5,100))\n",
    "n=len(x)\n",
    "y=b0+b1*x+np.random.normal(0,sigma,n)\n",
    "deg=10\n",
    "Aic=np.array(np.zeros((deg)))\n",
    "\n",
    "s1=np.array(np.zeros((deg)))\n",
    "for d in range(1,11):\n",
    "    s1[d-1]=d+1+1\n",
    "s=np.asarray(s1)    \n",
    "print(s)    \n",
    "print(Aic)\n",
    "s2=np.array(np.zeros((deg)))\n",
    "for degree in range(1,11):\n",
    "        coefs = poly.polyfit(x, y, degree)\n",
    "        ffit = poly.polyval(x, coefs)\n",
    "        residual=y-ffit\n",
    "        sigma_hat=np.sum((residual)**2)/n\n",
    "        likelihood=np.prod((1/(np.sqrt(2*np.pi)*np.sqrt(sigma_hat)))*np.exp(-(1/(2*(sigma_hat)))*(y-ffit)**2))\n",
    "        s2[degree-1]=np.log(likelihood)\n",
    "\n",
    "Aic=s2-s \n",
    "print(Aic)\n",
    "d=np.linspace(1,10,10)\n",
    "\n",
    "max(Aic)\n",
    "a=np.argmax(Aic)\n",
    "print(a)\n",
    "plt.plot(d,Aic,'ro-')\n",
    "plt.plot(d[a],Aic[a],marker=\"*\",markersize=3,markerfacecolor='g')"
   ]
  },
  {
   "cell_type": "code",
   "execution_count": 3,
   "metadata": {},
   "outputs": [
    {
     "name": "stdout",
     "output_type": "stream",
     "text": [
      "[ 3.  4.  5.  6.  7.  8.  9. 10. 11. 12.]\n"
     ]
    },
    {
     "name": "stderr",
     "output_type": "stream",
     "text": [
      "C:\\Users\\khann\\Anaconda3\\lib\\site-packages\\ipykernel_launcher.py:24: FutureWarning: reshape is deprecated and will raise in a subsequent release. Please use .values.reshape(...) instead\n",
      "C:\\Users\\khann\\Anaconda3\\lib\\site-packages\\ipykernel_launcher.py:25: FutureWarning: reshape is deprecated and will raise in a subsequent release. Please use .values.reshape(...) instead\n"
     ]
    },
    {
     "name": "stdout",
     "output_type": "stream",
     "text": [
      "0\n"
     ]
    },
    {
     "data": {
      "text/plain": [
       "array([0.20335305, 0.2711374 , 0.33892175, 0.4067061 , 0.47449046,\n",
       "       0.54227481, 0.61005916, 0.67784351, 0.74562786, 0.81341221])"
      ]
     },
     "execution_count": 3,
     "metadata": {},
     "output_type": "execute_result"
    },
    {
     "data": {
      "image/png": "[encoded data removed]",
      "text/plain": [
       "<matplotlib.figure.Figure at 0x19336e676a0>"
      ]
     },
     "metadata": {},
     "output_type": "display_data"
    }
   ],
   "source": [
    "from sklearn.model_selection import train_test_split\n",
    "from sklearn.preprocessing import PolynomialFeatures\n",
    "b0=1\n",
    "b1=0.3\n",
    "sigma=0.5\n",
    "np.random.seed(123)\n",
    "x=np.array(np.linspace(1,5,100))\n",
    "n=len(x)\n",
    "y=b0+b1*x+np.random.normal(0,sigma,n)\n",
    "d={'y':y,'x':x}\n",
    "data=pd.DataFrame(d)\n",
    "deg=10\n",
    "s1=np.array(np.zeros((deg)))\n",
    "for d in range(1,11):\n",
    "    s1[d-1]=d+1+1\n",
    "s=np.asarray(s1)    \n",
    "print(s)  \n",
    "rep=range(1,100)\n",
    "train_mse=np.zeros((n,deg))\n",
    "for i in rep:\n",
    "    train_data,test_data=train_test_split(data,test_size=0.3)\n",
    "    for deg in range(1, 11):\n",
    "        # Training Polynomial Regression Model\n",
    "        x_tr = PolynomialFeatures(degree=deg,include_bias=False).fit_transform(train_data.x.reshape(-1,1))\n",
    "        x_ts = PolynomialFeatures(degree=deg,include_bias=False).fit_transform(test_data.x.reshape(-1,1))\n",
    "        model = LinearRegression(fit_intercept=True).fit(x_tr,train_data.y)\n",
    "        # Predict Result with Polynomial Regression\n",
    "        tr_pred= model.predict(x_tr)\n",
    "        ts_pred=model.predict(x_ts)\n",
    "        train_mse[i-1,deg-1]=np.sum(tr_pred-train_data.y)**2\n",
    "\n",
    "avg_tr_ms=train_mse.mean(0)\n",
    "residual=train_data.y-tr_pred\n",
    "sigma_hat=np.sum((residual)**2)/n\n",
    "Cp=avg_tr_ms+2*s*(sigma_hat**2)\n",
    "b=np.argmin(Cp)\n",
    "print(b)\n",
    "d=np.linspace(1,10,10)\n",
    "plt.plot(d,Cp,'ro-')\n",
    "plt.plot(d[b],Cp[b],marker=\"*\",markersize=3,markerfacecolor='g')\n",
    "Cp"
   ]
  },
  {
   "cell_type": "markdown",
   "metadata": {},
   "source": [
    "### this shows that the model with highest AIC is the model with smallest Mallow's Cp statistcs"
   ]
  },
  {
   "cell_type": "code",
   "execution_count": null,
   "metadata": {},
   "outputs": [],
   "source": []
  },
  {
   "cell_type": "code",
   "execution_count": null,
   "metadata": {},
   "outputs": [],
   "source": []
  }
 ],
 "metadata": {
  "kernelspec": {
   "display_name": "Python 3",
   "language": "python",
   "name": "python3"
  },
  "language_info": {
   "codemirror_mode": {
    "name": "ipython",
    "version": 3
   },
   "file_extension": ".py",
   "mimetype": "text/x-python",
   "name": "python",
   "nbconvert_exporter": "python",
   "pygments_lexer": "ipython3",
   "version": "3.6.4"
  }
 },
 "nbformat": 4,
 "nbformat_minor": 2
}
