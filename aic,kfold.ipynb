{
 "cells": [
  {
   "cell_type": "markdown",
   "metadata": {},
   "source": [
    "### Consider a model y = f(x) + e, with f(x) = 0.1 + 2*sqrt(x) -sin(x), and sigma = 0.3 (the population relation). Simulate a data set of size n=100. Fit polynomials of varying degree (1:10) and each case compute the AIC. Check whether AIC is selecting the same model as selected by the K-fold cross validation. In the class, we have already derived the expression for the log-likelihood and elaborated that how the AIC needs to be computed.\n"
   ]
  },
  {
   "cell_type": "code",
   "execution_count": 1,
   "metadata": {},
   "outputs": [
    {
     "name": "stderr",
     "output_type": "stream",
     "text": [
      "C:\\Users\\khann\\Anaconda3\\lib\\site-packages\\statsmodels\\compat\\pandas.py:56: FutureWarning: The pandas.core.datetools module is deprecated and will be removed in a future version. Please use the pandas.tseries module instead.\n",
      "  from pandas.core import datetools\n"
     ]
    }
   ],
   "source": [
    "%matplotlib inline\n",
    "import numpy as np\n",
    "import math\n",
    "from scipy import stats\n",
    "import pandas as pd\n",
    "import statsmodels.api as sm\n",
    "import matplotlib.pyplot as plt\n",
    "import numpy.polynomial.polynomial as poly\n",
    "from sklearn.metrics import mean_squared_error\n",
    "from sklearn.neighbors import KNeighborsRegressor\n",
    "from sklearn.linear_model import LinearRegression \n",
    "from sklearn.model_selection import train_test_split, cross_val_score "
   ]
  },
  {
   "cell_type": "code",
   "execution_count": 2,
   "metadata": {},
   "outputs": [
    {
     "name": "stdout",
     "output_type": "stream",
     "text": [
      "[ 3.  4.  5.  6.  7.  8.  9. 10. 11. 12.]\n",
      "[0. 0. 0. 0. 0. 0. 0. 0. 0. 0.]\n",
      "[-39.62251861 -40.50389708 -29.20897113 -30.09703256 -30.97859204\n",
      " -31.97717719 -32.94964889 -32.76850399 -33.76799956 -34.76705756]\n",
      "2\n"
     ]
    },
    {
     "data": {
      "text/plain": [
       "[<matplotlib.lines.Line2D at 0x23aff05d048>]"
      ]
     },
     "execution_count": 2,
     "metadata": {},
     "output_type": "execute_result"
    },
    {
     "data": {
      "image/png": "[encoded data removed]",
      "text/plain": [
       "<matplotlib.figure.Figure at 0x23aff065eb8>"
      ]
     },
     "metadata": {},
     "output_type": "display_data"
    }
   ],
   "source": [
    "sigma=0.3\n",
    "n=100\n",
    "x=np.linspace(1,5,n)\n",
    "y=0.1+2*np.sqrt(x)-np.sin(x)+np.random.normal(0,sigma,n)\n",
    "deg=10\n",
    "Aic=np.array(np.zeros((deg)))\n",
    "\n",
    "s1=np.array(np.zeros((deg)))\n",
    "for d in range(1,11):\n",
    "    s1[d-1]=d+1+1\n",
    "s=np.asarray(s1)    \n",
    "print(s)    \n",
    "print(Aic)\n",
    "s2=np.array(np.zeros((deg)))\n",
    "for degree in range(1,11):\n",
    "        coefs = poly.polyfit(x, y, degree)\n",
    "        ffit = poly.polyval(x, coefs)\n",
    "        residual=y-ffit\n",
    "        sigma_hat=np.sum((residual)**2)/n\n",
    "        likelihood=np.prod((1/(np.sqrt(2*np.pi)*np.sqrt(sigma_hat)))*np.exp(-(1/(2*(sigma_hat)))*(y-ffit)**2))\n",
    "        s2[degree-1]=np.log(likelihood)\n",
    "\n",
    "Aic=s2-s \n",
    "print(Aic)\n",
    "d=np.linspace(1,10,10)\n",
    "\n",
    "max(Aic)\n",
    "a=np.argmax(Aic)\n",
    "print(a)\n",
    "plt.plot(d,Aic,'ro-')\n",
    "plt.plot(d[a],Aic[a],marker=\"*\",markersize=3,markerfacecolor='g')"
   ]
  },
  {
   "cell_type": "code",
   "execution_count": 3,
   "metadata": {},
   "outputs": [
    {
     "name": "stdout",
     "output_type": "stream",
     "text": [
      "KFold(n_splits=20, random_state=None, shuffle=False)\n",
      "3\n"
     ]
    },
    {
     "data": {
      "text/plain": [
       "[<matplotlib.lines.Line2D at 0x23aff3ea390>]"
      ]
     },
     "execution_count": 3,
     "metadata": {},
     "output_type": "execute_result"
    },
    {
     "data": {
      "image/png": "[encoded data removed]",
      "text/plain": [
       "<matplotlib.figure.Figure at 0x23aff351a90>"
      ]
     },
     "metadata": {},
     "output_type": "display_data"
    }
   ],
   "source": [
    "from sklearn.model_selection import KFold\n",
    "import numpy.polynomial.polynomial as poly\n",
    "b0=0.1\n",
    "b1=2\n",
    "b2=1\n",
    "sigma=0.3\n",
    "x=np.linspace(1,5,100)\n",
    "n=len(x)\n",
    "np.random.seed(123)\n",
    "y=b0+b1*np.sqrt(x)-b2*np.sin(x)+np.random.normal(0,sigma,n)\n",
    "n_splits=20\n",
    "kf = KFold(n_splits)\n",
    "ms_error=np.array(np.zeros((100,10)))\n",
    "print(kf)\n",
    "for i in range(1,100):\n",
    "    for train_index, test_index in kf.split(x):\n",
    "        X_train, X_test = x[train_index], x[test_index]\n",
    "        y_train, y_test = y[train_index], y[test_index]\n",
    "        for degree in range(1,11):\n",
    "            coefs = poly.polyfit(X_train, y_train, degree)\n",
    "            ffit = poly.polyval(X_test, coefs)\n",
    "            ms_error[i-1,degree-1]=mean_squared_error(y_test, ffit)\n",
    "    \n",
    "    \n",
    "mse=ms_error.mean(0)              \n",
    "b=np.argmin(mse)\n",
    "print(b)\n",
    "deg=np.linspace(1,10,10)\n",
    "plt.plot(deg,mse,'ro-')\n",
    "plt.plot(deg[b],mse[b],marker=\"*\",markersize=3,markerfacecolor='g')"
   ]
  },
  {
   "cell_type": "code",
   "execution_count": 6,
   "metadata": {},
   "outputs": [],
   "source": []
  },
  {
   "cell_type": "code",
   "execution_count": null,
   "metadata": {},
   "outputs": [],
   "source": []
  }
 ],
 "metadata": {
  "kernelspec": {
   "display_name": "Python 3",
   "language": "python",
   "name": "python3"
  },
  "language_info": {
   "codemirror_mode": {
    "name": "ipython",
    "version": 3
   },
   "file_extension": ".py",
   "mimetype": "text/x-python",
   "name": "python",
   "nbconvert_exporter": "python",
   "pygments_lexer": "ipython3",
   "version": "3.6.4"
  }
 },
 "nbformat": 4,
 "nbformat_minor": 2
}
